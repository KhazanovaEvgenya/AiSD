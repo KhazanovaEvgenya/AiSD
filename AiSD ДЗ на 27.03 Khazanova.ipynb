{
 "cells": [
  {
   "cell_type": "markdown",
   "id": "2f3e9f54-144e-4759-ba0f-404f3b1898a3",
   "metadata": {},
   "source": [
    "9 вариант"
   ]
  },
  {
   "cell_type": "markdown",
   "id": "6d9052ba-3a98-4ec3-9cdb-dd8794029588",
   "metadata": {},
   "source": [
    "Класс – конус. Методы – расчет площади и объема конуса. Поля – радиус основания, высота конуса."
   ]
  },
  {
   "cell_type": "code",
   "execution_count": 3,
   "id": "8afdb40a-2493-4654-b3e0-85349aafec0a",
   "metadata": {},
   "outputs": [
    {
     "name": "stdout",
     "output_type": "stream",
     "text": [
      "Образующая конуса: 11.18\n",
      "Площадь боковой поверхности: 175.62\n",
      "Площадь основания: 78.54\n",
      "Общая площадь поверхности: 254.16\n",
      "Объем конуса: 261.80\n"
     ]
    }
   ],
   "source": [
    "import math\n",
    "\n",
    "class Cone:\n",
    "    def __init__(self, radius, height):\n",
    "        \"\"\"\n",
    "        Инициализация конуса с заданным радиусом основания и высотой.\n",
    "        \"\"\"\n",
    "        self.radius = radius\n",
    "        self.height = height\n",
    "\n",
    "    def lateral_surface_area(self):\n",
    "        \"\"\"\n",
    "        Расчет площади боковой поверхности конуса.\n",
    "        \"\"\"\n",
    "        return math.pi * self.radius * self.c_height()\n",
    "\n",
    "    def base_area(self):\n",
    "        \"\"\"\n",
    "        Расчет площади основания конуса.\n",
    "        \"\"\"\n",
    "        return math.pi * self.radius ** 2\n",
    "\n",
    "    def full_area(self):\n",
    "        \"\"\"\n",
    "        Расчет общей площади поверхности конуса.\n",
    "        \"\"\"\n",
    "        return self.lateral_surface_area() + self.base_area()\n",
    "\n",
    "    def volume(self):\n",
    "        \"\"\"\n",
    "        Расчет объема конуса.\n",
    "        \"\"\"\n",
    "        return math.pi * self.radius ** 2 * self.height / 3\n",
    "\n",
    "    def c_height(self):\n",
    "        \"\"\"\n",
    "        Расчет образующей конуса.\n",
    "        \"\"\"\n",
    "        return math.sqrt(self.height ** 2 + self.radius ** 2)\n",
    "\n",
    "# Пример использования\n",
    "cone = Cone(radius=5, height=10)\n",
    "print(f\"Образующая конуса: {cone.c_height():.2f}\")\n",
    "print(f\"Площадь боковой поверхности: {cone.lateral_surface_area():.2f}\")\n",
    "print(f\"Площадь основания: {cone.base_area():.2f}\")\n",
    "print(f\"Общая площадь поверхности: {cone.full_area():.2f}\")\n",
    "print(f\"Объем конуса: {cone.volume():.2f}\")\n"
   ]
  },
  {
   "cell_type": "markdown",
   "id": "f63ab7ae-92cd-4637-bd7c-f1a38da11bea",
   "metadata": {},
   "source": [
    "Опишите класс Triangle, заданный длиной одной стороны и двумя прилежащими углами (в градусах). Включите в описание класса методы, позволяющие вычислить две другие стороны и третий угол треугольника, и свойство, доступное только для чтения, позволяющее установить вид треугольника (равносторонний, равнобедренный, прямоугольный и т. п.)."
   ]
  },
  {
   "cell_type": "code",
   "execution_count": 5,
   "id": "9414d4d8-51f4-46fd-b6ae-29a3826a3551",
   "metadata": {},
   "outputs": [
    {
     "name": "stdout",
     "output_type": "stream",
     "text": [
      "Стороны треугольника: (5, 5.0, 5.0)\n",
      "Тип треугольника: Равносторонний\n"
     ]
    }
   ],
   "source": [
    "import math\n",
    "\n",
    "class Triangle:\n",
    "    def __init__(self, side, angle1, angle2):\n",
    "        self.side = side  # Известная сторона\n",
    "        self.angle1 = angle1  # Угол 1 в градусах\n",
    "        self.angle2 = angle2  # Угол 2 в градусах\n",
    "        self.angle3 = 180 - angle1 - angle2  # Вычисление угла 3\n",
    "\n",
    "    @property\n",
    "    def sides(self):\n",
    "        # Используем закон синусов для вычисления двух других сторон\n",
    "        side2 = self.side * math.sin(math.radians(self.angle2)) / math.sin(math.radians(self.angle3))\n",
    "        side3 = self.side * math.sin(math.radians(self.angle1)) / math.sin(math.radians(self.angle3))\n",
    "        return self.side, side2, side3\n",
    "\n",
    "    @property\n",
    "    def triangle_type(self):\n",
    "        sides = sorted(self.sides)\n",
    "        if all(math.isclose(s, sides[0], rel_tol=1e-5) for s in sides):\n",
    "            return \"Равносторонний\"\n",
    "        elif sides[0] == sides[1] or sides[1] == sides[2]:\n",
    "            if self.angle3 == 90 or self.angle1 == 90 or self.angle2 == 90:\n",
    "                return \"Прямоугольный и равнобедренный\"\n",
    "            return \"Равнобедренный\"\n",
    "        elif self.angle3 == 90 or self.angle1 == 90 or self.angle2 == 90:\n",
    "            return \"Прямоугольный\"\n",
    "        elif self.angle3 > 90 or self.angle1 > 90 or self.angle2 > 90:\n",
    "            return \"Тупоугольный\"\n",
    "        else:\n",
    "            return \"Остроугольный\"\n",
    "\n",
    "# Пример использования\n",
    "triangle = Triangle(5, 60, 60)\n",
    "print(\"Стороны треугольника:\", triangle.sides)\n",
    "print(\"Тип треугольника:\", triangle.triangle_type)\n"
   ]
  },
  {
   "cell_type": "code",
   "execution_count": 4,
   "id": "50264d42-19d8-4a03-904f-672b4ef6cbda",
   "metadata": {},
   "outputs": [
    {
     "name": "stdout",
     "output_type": "stream",
     "text": [
      "Сторона b: 10.00\n",
      "Сторона c: 10.00\n",
      "Тип треугольника: Равносторонний\n"
     ]
    }
   ],
   "source": [
    "import math\n",
    "\n",
    "class Triangle:\n",
    "    def __init__(self, side, angle1, angle2):\n",
    "        self.side = side  # Длина заданной стороны\n",
    "        self.angle1 = angle1  # Первый прилежащий угол в градусах\n",
    "        self.angle2 = angle2  # Второй прилежащий угол в градусах\n",
    "        self.angle3 = 180 - angle1 - angle2  # Третий угол\n",
    "\n",
    "    @property\n",
    "    def side_b(self):\n",
    "        \"\"\"Вычисляет и возвращает длину второй стороны.\"\"\"\n",
    "        # Преобразование углов в радианы\n",
    "        angle1_radians = math.radians(self.angle1)\n",
    "        angle3_radians = math.radians(self.angle3)\n",
    "        return self.side * math.sin(angle3_radians) / math.sin(angle1_radians)\n",
    "\n",
    "    @property\n",
    "    def side_c(self):\n",
    "        \"\"\"Вычисляет и возвращает длину третьей стороны.\"\"\"\n",
    "        # Преобразование углов в радианы\n",
    "        angle2_radians = math.radians(self.angle2)\n",
    "        angle3_radians = math.radians(self.angle3)\n",
    "        return self.side * math.sin(angle3_radians) / math.sin(angle2_radians)\n",
    "\n",
    "    @property\n",
    "    def type(self):\n",
    "        \"\"\"Определяет тип треугольника по его сторонам и углам.\"\"\"\n",
    "        if self.angle1 == 90 or self.angle2 == 90 or self.angle3 == 90:\n",
    "            return \"Прямоугольный\"\n",
    "        elif self.side == self.side_b == self.side_c:\n",
    "            return \"Равносторонний\"\n",
    "        elif self.side == self.side_b or self.side == self.side_c or self.side_b == self.side_c:\n",
    "            return \"Равнобедренный\"\n",
    "        else:\n",
    "            return \"Разносторонний\"\n",
    "\n",
    "# Пример использования\n",
    "triangle = Triangle(10, 60, 60)\n",
    "print(f\"Сторона b: {triangle.side_b:.2f}\")\n",
    "print(f\"Сторона c: {triangle.side_c:.2f}\")\n",
    "print(f\"Тип треугольника: {triangle.type}\")\n"
   ]
  },
  {
   "cell_type": "markdown",
   "id": "de884146-a968-4487-bb5a-3c56e6eeb6c2",
   "metadata": {},
   "source": [
    "   Создайте класс ТРАНСПОРТ с методами, позволяющими вывести на экран информацию о транспортном средстве, а также определить, находится ли транспортное средство в пределах заданных координат. Создайте дочерние классы САМОЛЕТ (марка, максимальные скорость и высота, количество пассажиров, координаты), АВТОМОБИЛЬ (марка, номер, год выпуска, координаты), КОРАБЛЬ (название, координаты, скорость, количество пассажиров, порт приписки) со своими методами вывода информации на экран и определения присутствия транспортного средства в пределах заданных координат. Создайте список из n транспортных средств, выведите полную информацию из базы на экран, а также организуйте поиск транспортных средств, которые сейчас находятся в пределах заданных координат."
   ]
  },
  {
   "cell_type": "code",
   "execution_count": 6,
   "id": "325704e5-0949-485a-9537-79d41d15df43",
   "metadata": {},
   "outputs": [
    {
     "name": "stdout",
     "output_type": "stream",
     "text": [
      "Coordinates: (40, 100)\n",
      "Airplane brand: Boeing 747, Max speed: 920 km/h, Max altitude: 13100 m, Passengers: 366\n",
      "-----------\n",
      "Coordinates: (55, 105)\n",
      "Car brand: Toyota Corolla, License plate: A123AA, Year of manufacture: 2020\n",
      "-----------\n",
      "Coordinates: (41, 50)\n",
      "Ship name: Titanic, Speed: 23 km/h, Passengers: 2224, Port of registry: Southampton\n",
      "-----------\n",
      "Vehicles within given coordinates:\n",
      "Coordinates: (40, 100)\n",
      "Airplane brand: Boeing 747, Max speed: 920 km/h, Max altitude: 13100 m, Passengers: 366\n",
      "-----------\n",
      "Coordinates: (55, 105)\n",
      "Car brand: Toyota Corolla, License plate: A123AA, Year of manufacture: 2020\n",
      "-----------\n",
      "Coordinates: (41, 50)\n",
      "Ship name: Titanic, Speed: 23 km/h, Passengers: 2224, Port of registry: Southampton\n",
      "-----------\n"
     ]
    }
   ],
   "source": [
    "class Transport:\n",
    "    def __init__(self, coordinates):\n",
    "        self.coordinates = coordinates\n",
    "\n",
    "    def display_info(self):\n",
    "        print(f\"Coordinates: {self.coordinates}\")\n",
    "\n",
    "    def is_within_bounds(self, x_min, y_min, x_max, y_max):\n",
    "        x, y = self.coordinates\n",
    "        return x_min <= x <= x_max and y_min <= y <= y_max\n",
    "class Airplane(Transport):\n",
    "    def __init__(self, brand, max_speed, max_altitude, passengers, coordinates):\n",
    "        super().__init__(coordinates)\n",
    "        self.brand = brand\n",
    "        self.max_speed = max_speed\n",
    "        self.max_altitude = max_altitude\n",
    "        self.passengers = passengers\n",
    "\n",
    "    def display_info(self):\n",
    "        super().display_info()\n",
    "        print(f\"Airplane brand: {self.brand}, Max speed: {self.max_speed} km/h, Max altitude: {self.max_altitude} m, Passengers: {self.passengers}\")\n",
    "\n",
    "class Car(Transport):\n",
    "    def __init__(self, brand, license_plate, year_of_manufacture, coordinates):\n",
    "        super().__init__(coordinates)\n",
    "        self.brand = brand\n",
    "        self.license_plate = license_plate\n",
    "        self.year_of_manufacture = year_of_manufacture\n",
    "\n",
    "    def display_info(self):\n",
    "        super().display_info()\n",
    "        print(f\"Car brand: {self.brand}, License plate: {self.license_plate}, Year of manufacture: {self.year_of_manufacture}\")\n",
    "\n",
    "class Ship(Transport):\n",
    "    def __init__(self, name, coordinates, speed, passengers, port_of_registry):\n",
    "        super().__init__(coordinates)\n",
    "        self.name = name\n",
    "        self.speed = speed\n",
    "        self.passengers = passengers\n",
    "        self.port_of_registry = port_of_registry\n",
    "\n",
    "    def display_info(self):\n",
    "        super().display_info()\n",
    "        print(f\"Ship name: {self.name}, Speed: {self.speed} km/h, Passengers: {self.passengers}, Port of registry: {self.port_of_registry}\")\n",
    "def display_vehicles_info(vehicles):\n",
    "    for vehicle in vehicles:\n",
    "        vehicle.display_info()\n",
    "        print(\"-----------\")\n",
    "\n",
    "def search_within_bounds(vehicles, x_min, y_min, x_max, y_max):\n",
    "    print(\"Vehicles within given coordinates:\")\n",
    "    for vehicle in vehicles:\n",
    "        if vehicle.is_within_bounds(x_min, y_min, x_max, y_max):\n",
    "            vehicle.display_info()\n",
    "            print(\"-----------\")\n",
    "\n",
    "#Example\n",
    "vehicles = [\n",
    "    Airplane(\"Boeing 747\", 920, 13100, 366, (40, 100)),\n",
    "    Car(\"Toyota Corolla\", \"A123AA\", 2020, (55, 105)),\n",
    "    Ship(\"Titanic\", (41, 50), 23, 2224, \"Southampton\")\n",
    "]\n",
    "\n",
    "display_vehicles_info(vehicles)\n",
    "search_within_bounds(vehicles, 40, 50, 60, 110)\n"
   ]
  },
  {
   "cell_type": "code",
   "execution_count": null,
   "id": "07c30710-fcfe-4381-87ec-f93f6167cb39",
   "metadata": {},
   "outputs": [],
   "source": []
  }
 ],
 "metadata": {
  "kernelspec": {
   "display_name": "Python 3 (ipykernel)",
   "language": "python",
   "name": "python3"
  },
  "language_info": {
   "codemirror_mode": {
    "name": "ipython",
    "version": 3
   },
   "file_extension": ".py",
   "mimetype": "text/x-python",
   "name": "python",
   "nbconvert_exporter": "python",
   "pygments_lexer": "ipython3",
   "version": "3.12.2"
  }
 },
 "nbformat": 4,
 "nbformat_minor": 5
}
