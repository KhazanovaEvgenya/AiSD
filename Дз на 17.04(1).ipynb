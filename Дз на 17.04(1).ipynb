{
 "cells": [
  {
   "cell_type": "markdown",
   "id": "48073fbc-3a7f-4f8c-8bce-a870898271e5",
   "metadata": {},
   "source": [
    "Вариант 8\n",
    "а) Используя лямбда-функцию, из текущего времени извлеките год, месяц, дату и время.\n",
    "б) Вычислите сумму положительных и отрицательных чисел заданного списка чисел, используя лямбда-функцию.\n",
    "в) Для подсчёта вхождений элементов в заданный список используйте лямбда-функцию. Пример: [3, 4, 5, 8, 0, 3, 8, 5, 0, 3, 1, 5, 2, 3, 4, 2] → {3: 4, 4: 2, 5: 3, 8: 2, 0: 2, 1: 1, 2: 2}"
   ]
  },
  {
   "cell_type": "code",
   "execution_count": 1,
   "id": "8262328a-ac9b-44da-9c4c-78aeb38d2295",
   "metadata": {},
   "outputs": [
    {
     "name": "stdout",
     "output_type": "stream",
     "text": [
      "Год: 2024\n",
      "Месяц: 4\n",
      "День: 17\n",
      "Часы: 7\n",
      "Минуты: 41\n",
      "Секунды: 49\n"
     ]
    }
   ],
   "source": [
    "#a\n",
    "import datetime\n",
    "\n",
    "# Создаем лямбда-функцию для получения текущего времени\n",
    "current_datetime = lambda: datetime.datetime.now()\n",
    "\n",
    "# Получаем год, месяц, день, часы, минуты и секунды\n",
    "year = lambda: current_datetime().year\n",
    "month = lambda: current_datetime().month\n",
    "day = lambda: current_datetime().day\n",
    "hour = lambda: current_datetime().hour\n",
    "minute = lambda: current_datetime().minute\n",
    "second = lambda: current_datetime().second\n",
    "\n",
    "# Вывод результатов\n",
    "print(\"Год:\", year())\n",
    "print(\"Месяц:\", month())\n",
    "print(\"День:\", day())\n",
    "print(\"Часы:\", hour())\n",
    "print(\"Минуты:\", minute())\n",
    "print(\"Секунды:\", second())\n"
   ]
  },
  {
   "cell_type": "code",
   "execution_count": 2,
   "id": "887177b0-2c12-48ca-b269-2be005fa39b0",
   "metadata": {},
   "outputs": [
    {
     "name": "stdout",
     "output_type": "stream",
     "text": [
      "Сумма положительных чисел: 25\n",
      "Сумма отрицательных чисел: -30\n"
     ]
    }
   ],
   "source": [
    "#b\n",
    "numbers = [1, -2, 3, -4, 5, -6, 7, -8, 9, -10] \n",
    "\n",
    "# Лямбда-функция для фильтрации положительных чисел\n",
    "positive_sum = lambda nums: sum(filter(lambda x: x > 0, nums))\n",
    "\n",
    "# Лямбда-функция для фильтрации отрицательных чисел\n",
    "negative_sum = lambda nums: sum(filter(lambda x: x < 0, nums))\n",
    "\n",
    "# Вывод результатов\n",
    "print(\"Сумма положительных чисел:\", positive_sum(numbers))\n",
    "print(\"Сумма отрицательных чисел:\", negative_sum(numbers))\n"
   ]
  },
  {
   "cell_type": "code",
   "execution_count": 3,
   "id": "1a9e3141-b523-4f5a-8571-47627f695fb5",
   "metadata": {},
   "outputs": [
    {
     "name": "stdout",
     "output_type": "stream",
     "text": [
      "Counter({3: 4, 5: 3, 4: 2, 8: 2, 0: 2, 2: 2, 1: 1})\n"
     ]
    }
   ],
   "source": [
    "#c\n",
    "from collections import Counter\n",
    "\n",
    "# Заданный список чисел\n",
    "numbers = [3, 4, 5, 8, 0, 3, 8, 5, 0, 3, 1, 5, 2, 3, 4, 2]\n",
    "\n",
    "# Лямбда-функция для подсчета вхождений каждого элемента в список\n",
    "count_elements = lambda nums: Counter(nums)\n",
    "\n",
    "element_counts = count_elements(numbers)\n",
    "print(element_counts)\n"
   ]
  },
  {
   "cell_type": "markdown",
   "id": "d90f4695-501a-4505-a96d-f18358d06136",
   "metadata": {},
   "source": [
    "а) Преобразуйте заданный список целых чисел и кортеж целых чисел в список строк. Пример: [1, 2, 3, 4], (0, 1, 2, 3) → ['1', '2', '3', '4'], ('0', '1', '2', '3')."
   ]
  },
  {
   "cell_type": "code",
   "execution_count": null,
   "id": "aa00bcb3-ff7b-49fd-aa7d-90e42cda9fb1",
   "metadata": {},
   "outputs": [],
   "source": [
    "# Заданный список и кортеж целых чисел\n",
    "numbers_list = [1, 2, 3, 4]\n",
    "numbers_tuple = (0, 1, 2, 3)\n",
    "\n",
    "# Лямбда-функция для преобразования элементов в строки\n",
    "to_string_list = lambda items: list(map(str, items))\n",
    "to_string_tuple = lambda items: tuple(map(str, items))\n",
    "\n",
    "# Преобразование списка и кортежа\n",
    "string_list = to_string_list(numbers_list)\n",
    "string_tuple = to_string_tuple(numbers_tuple)\n",
    "\n",
    "# Вывод результатов\n",
    "print(string_list)  # ['1', '2', '3', '4']\n",
    "print(string_tuple) # ('0', '1', '2', '3')\n"
   ]
  },
  {
   "cell_type": "markdown",
   "id": "f293940f-545b-4d90-a01d-f2caa7e69c45",
   "metadata": {},
   "source": [
    "    to_string_list принимает итерируемый объект items и использует map для применения функции str к каждому элементу, преобразуя их в строки. Результат преобразуется в список.\n",
    "    to_string_tuple работает аналогично, но результат преобразуется в кортеж."
   ]
  },
  {
   "cell_type": "markdown",
   "id": "f4bb7776-c323-4c92-b8e9-f8e28060ab3e",
   "metadata": {},
   "source": [
    "б) Сгенерировать список целых чисел. С помощью функции filter() выбрать из списка все числа меньше заданного числа и упорядочить их по возрастанию. Используя функцию reduce(), найти их произведение."
   ]
  },
  {
   "cell_type": "code",
   "execution_count": 4,
   "id": "10cbb381-4702-4d39-aeed-592478fe5936",
   "metadata": {},
   "outputs": [
    {
     "name": "stdout",
     "output_type": "stream",
     "text": [
      "Исходный список чисел: [60, 83, 18, 43, 10, 15, 89, 12, 12, 24]\n",
      "Отфильтрованные и отсортированные числа меньше 50 : [10, 12, 12, 15, 18, 24, 43]\n",
      "Произведение отфильтрованных чисел: 401241600\n"
     ]
    }
   ],
   "source": [
    "import random\n",
    "from functools import reduce\n",
    "\n",
    "# Генерация списка случайных целых чисел\n",
    "random_list = [random.randint(1, 100) for _ in range(10)]\n",
    "\n",
    "# Заданное число\n",
    "threshold = 50\n",
    "\n",
    "# Функция для выбора чисел меньше заданного и их сортировки\n",
    "filter_and_sort = lambda lst, thresh: sorted(filter(lambda x: x < thresh, lst))\n",
    "\n",
    "# Функция для нахождения произведения элементов списка\n",
    "product_of_elements = lambda lst: reduce(lambda x, y: x * y, lst)\n",
    "\n",
    "# Выбор и сортировка чисел\n",
    "filtered_sorted_list = filter_and_sort(random_list, threshold)\n",
    "\n",
    "# Нахождение произведения\n",
    "product_result = product_of_elements(filtered_sorted_list)\n",
    "\n",
    "# Вывод результатов\n",
    "print(\"Исходный список чисел:\", random_list)\n",
    "print(\"Отфильтрованные и отсортированные числа меньше\", threshold, \":\", filtered_sorted_list)\n",
    "print(\"Произведение отфильтрованных чисел:\", product_result)\n"
   ]
  },
  {
   "cell_type": "code",
   "execution_count": 5,
   "id": "50d05fd0-1a2a-44e6-bc84-66cdfeb6659a",
   "metadata": {},
   "outputs": [
    {
     "name": "stdout",
     "output_type": "stream",
     "text": [
      "Исходный список чисел: [82, 7, 8, 37, 42, 11, 43, 23, 24, 66]\n",
      "Отфильтрованные и отсортированные числа меньше 50 : [7, 8, 11, 23, 24, 37, 42, 43]\n",
      "Произведение отфильтрованных чисел: 22721618304\n"
     ]
    }
   ],
   "source": [
    "import random\n",
    "\n",
    "# Генерация списка случайных целых чисел\n",
    "random_list = [random.randint(1, 100) for _ in range(10)]\n",
    "\n",
    "# Заданное число\n",
    "threshold = 50\n",
    "\n",
    "# Фильтрация списка по заданному условию и его сортировка\n",
    "filtered_sorted_list = [num for num in random_list if num < threshold]\n",
    "filtered_sorted_list.sort()\n",
    "\n",
    "# Вычисление произведения чисел в списке\n",
    "product_result = 1\n",
    "for num in filtered_sorted_list:\n",
    "    product_result *= num\n",
    "\n",
    "# Вывод результатов\n",
    "print(\"Исходный список чисел:\", random_list)\n",
    "print(\"Отфильтрованные и отсортированные числа меньше\", threshold, \":\", filtered_sorted_list)\n",
    "print(\"Произведение отфильтрованных чисел:\", product_result)\n"
   ]
  },
  {
   "cell_type": "markdown",
   "id": "893cfa6a-9701-4ab2-9cf1-b195c1445c25",
   "metadata": {},
   "source": [
    "а) Создайте декоратор, который будет логировать ошибки, возникающие при выполнении функции, и отправлять уведомления об этих ошибках."
   ]
  },
  {
   "cell_type": "code",
   "execution_count": 6,
   "id": "08225b1f-0b33-4b7e-94e2-cf59d89ee502",
   "metadata": {},
   "outputs": [
    {
     "name": "stderr",
     "output_type": "stream",
     "text": [
      "2024-04-17 07:48:29,074 - ERROR - Ошибка в функции divide: division by zero\n"
     ]
    },
    {
     "name": "stdout",
     "output_type": "stream",
     "text": [
      "Уведомление: Ошибка в функции divide!\n"
     ]
    }
   ],
   "source": [
    "import functools\n",
    "import logging\n",
    "\n",
    "# Настройка логгирования\n",
    "logging.basicConfig(level=logging.ERROR, format='%(asctime)s - %(levelname)s - %(message)s')\n",
    "\n",
    "def error_logger(func):\n",
    "    \"\"\"\n",
    "    Декоратор для логирования ошибок и отправки уведомлений.\n",
    "    \"\"\"\n",
    "    @functools.wraps(func)\n",
    "    def wrapper(*args, **kwargs):\n",
    "        try:\n",
    "            return func(*args, **kwargs)\n",
    "        except Exception as e:\n",
    "            # Логирование ошибки\n",
    "            logging.error(f\"Ошибка в функции {func.__name__}: {e}\")\n",
    "            # Отправка уведомления об ошибке (здесь пример с выводом в консоль)\n",
    "            print(f\"Уведомление: Ошибка в функции {func.__name__}!\")\n",
    "            # Повторно поднимаем исключение, чтобы не потерять стек вызова\n",
    "            raise\n",
    "    return wrapper\n",
    "\n",
    "# Пример использования декоратора\n",
    "@error_logger\n",
    "def divide(a, b):\n",
    "    return a / b\n",
    "\n",
    "# Пример вызова функции, где возможно возникновение ошибки\n",
    "try:\n",
    "    result = divide(10, 0)\n",
    "except ZeroDivisionError:\n",
    "    pass\n"
   ]
  },
  {
   "cell_type": "markdown",
   "id": "35890ab9-5cc6-442c-a84a-26c4f9899694",
   "metadata": {},
   "source": [
    "Настройка логгирования: Настройка логгера с уровнем ERROR для записи ошибок с временем возникновения и описанием.\n",
    "\n",
    "Декоратор error_logger: Этот декоратор оборачивает функцию, чтобы ловить любые исключения, возникающие во время её выполнения.\n",
    "\n",
    "    try и except блок используется для отлова исключений.\n",
    "    В блоке except записывается ошибка в лог и отправляется уведомление (в данном примере уведомление выводится в консоль).\n",
    "    raise повторно поднимает исключение после его логирования и уведомления, чтобы не скрыть ошибку от дальнейших обработчиков или вызывающего кода.\n",
    "\n",
    "Пример функции divide: Функция деления, которая может вызвать ZeroDivisionError при попытке деления на ноль."
   ]
  },
  {
   "cell_type": "code",
   "execution_count": 7,
   "id": "3a7bb06e-53ad-452f-b588-e64191a5300c",
   "metadata": {},
   "outputs": [
    {
     "name": "stdout",
     "output_type": "stream",
     "text": [
      "Произошла ошибка, отправка уведомления на электронную почту...\n"
     ]
    },
    {
     "ename": "SMTPAuthenticationError",
     "evalue": "(535, b'5.7.8 Username and Password not accepted. For more information, go to\\n5.7.8  https://support.google.com/mail/?p=BadCredentials l6-20020a170906644600b00a554f6fbb25sm606363ejn.138 - gsmtp')",
     "output_type": "error",
     "traceback": [
      "\u001b[1;31m---------------------------------------------------------------------------\u001b[0m",
      "\u001b[1;31mZeroDivisionError\u001b[0m                         Traceback (most recent call last)",
      "Cell \u001b[1;32mIn[7], line 28\u001b[0m, in \u001b[0;36merror_notifier.<locals>.wrapper\u001b[1;34m(*args, **kwargs)\u001b[0m\n\u001b[0;32m     27\u001b[0m \u001b[38;5;28;01mtry\u001b[39;00m:\n\u001b[1;32m---> 28\u001b[0m     \u001b[38;5;28;01mreturn\u001b[39;00m \u001b[43mfunc\u001b[49m\u001b[43m(\u001b[49m\u001b[38;5;241;43m*\u001b[39;49m\u001b[43margs\u001b[49m\u001b[43m,\u001b[49m\u001b[43m \u001b[49m\u001b[38;5;241;43m*\u001b[39;49m\u001b[38;5;241;43m*\u001b[39;49m\u001b[43mkwargs\u001b[49m\u001b[43m)\u001b[49m\n\u001b[0;32m     29\u001b[0m \u001b[38;5;28;01mexcept\u001b[39;00m \u001b[38;5;167;01mException\u001b[39;00m \u001b[38;5;28;01mas\u001b[39;00m e:\n",
      "Cell \u001b[1;32mIn[7], line 39\u001b[0m, in \u001b[0;36mdivide\u001b[1;34m(a, b)\u001b[0m\n\u001b[0;32m     37\u001b[0m \u001b[38;5;129m@error_notifier\u001b[39m\n\u001b[0;32m     38\u001b[0m \u001b[38;5;28;01mdef\u001b[39;00m \u001b[38;5;21mdivide\u001b[39m(a, b):\n\u001b[1;32m---> 39\u001b[0m     \u001b[38;5;28;01mreturn\u001b[39;00m \u001b[43ma\u001b[49m\u001b[43m \u001b[49m\u001b[38;5;241;43m/\u001b[39;49m\u001b[43m \u001b[49m\u001b[43mb\u001b[49m\n",
      "\u001b[1;31mZeroDivisionError\u001b[0m: division by zero",
      "\nDuring handling of the above exception, another exception occurred:\n",
      "\u001b[1;31mSMTPAuthenticationError\u001b[0m                   Traceback (most recent call last)",
      "Cell \u001b[1;32mIn[7], line 43\u001b[0m\n\u001b[0;32m     41\u001b[0m \u001b[38;5;66;03m# Пример вызова функции\u001b[39;00m\n\u001b[0;32m     42\u001b[0m \u001b[38;5;28;01mtry\u001b[39;00m:\n\u001b[1;32m---> 43\u001b[0m     result \u001b[38;5;241m=\u001b[39m \u001b[43mdivide\u001b[49m\u001b[43m(\u001b[49m\u001b[38;5;241;43m10\u001b[39;49m\u001b[43m,\u001b[49m\u001b[43m \u001b[49m\u001b[38;5;241;43m0\u001b[39;49m\u001b[43m)\u001b[49m\n\u001b[0;32m     44\u001b[0m \u001b[38;5;28;01mexcept\u001b[39;00m \u001b[38;5;167;01mZeroDivisionError\u001b[39;00m:\n\u001b[0;32m     45\u001b[0m     \u001b[38;5;28;01mpass\u001b[39;00m\n",
      "Cell \u001b[1;32mIn[7], line 32\u001b[0m, in \u001b[0;36merror_notifier.<locals>.wrapper\u001b[1;34m(*args, **kwargs)\u001b[0m\n\u001b[0;32m     30\u001b[0m error_message \u001b[38;5;241m=\u001b[39m \u001b[38;5;124mf\u001b[39m\u001b[38;5;124m\"\u001b[39m\u001b[38;5;124mОшибка в функции \u001b[39m\u001b[38;5;132;01m{\u001b[39;00mfunc\u001b[38;5;241m.\u001b[39m\u001b[38;5;18m__name__\u001b[39m\u001b[38;5;132;01m}\u001b[39;00m\u001b[38;5;124m: \u001b[39m\u001b[38;5;132;01m{\u001b[39;00mtraceback\u001b[38;5;241m.\u001b[39mformat_exc()\u001b[38;5;132;01m}\u001b[39;00m\u001b[38;5;124m\"\u001b[39m\n\u001b[0;32m     31\u001b[0m \u001b[38;5;28mprint\u001b[39m(\u001b[38;5;124m\"\u001b[39m\u001b[38;5;124mПроизошла ошибка, отправка уведомления на электронную почту...\u001b[39m\u001b[38;5;124m\"\u001b[39m)\n\u001b[1;32m---> 32\u001b[0m \u001b[43msend_email\u001b[49m\u001b[43m(\u001b[49m\u001b[38;5;124;43m\"\u001b[39;49m\u001b[38;5;124;43mОшибка в приложении\u001b[39;49m\u001b[38;5;124;43m\"\u001b[39;49m\u001b[43m,\u001b[49m\u001b[43m \u001b[49m\u001b[43merror_message\u001b[49m\u001b[43m,\u001b[49m\u001b[43m \u001b[49m\u001b[38;5;124;43m\"\u001b[39;49m\u001b[38;5;124;43mreceiver-email@example.com\u001b[39;49m\u001b[38;5;124;43m\"\u001b[39;49m\u001b[43m)\u001b[49m\n\u001b[0;32m     33\u001b[0m \u001b[38;5;28;01mraise\u001b[39;00m\n",
      "Cell \u001b[1;32mIn[7], line 17\u001b[0m, in \u001b[0;36msend_email\u001b[1;34m(subject, body, to_email)\u001b[0m\n\u001b[0;32m     15\u001b[0m server \u001b[38;5;241m=\u001b[39m smtplib\u001b[38;5;241m.\u001b[39mSMTP(\u001b[38;5;124m'\u001b[39m\u001b[38;5;124msmtp.gmail.com\u001b[39m\u001b[38;5;124m'\u001b[39m, \u001b[38;5;241m587\u001b[39m)\n\u001b[0;32m     16\u001b[0m server\u001b[38;5;241m.\u001b[39mstarttls()\n\u001b[1;32m---> 17\u001b[0m \u001b[43mserver\u001b[49m\u001b[38;5;241;43m.\u001b[39;49m\u001b[43mlogin\u001b[49m\u001b[43m(\u001b[49m\u001b[38;5;124;43m\"\u001b[39;49m\u001b[38;5;124;43myour-email@example.com\u001b[39;49m\u001b[38;5;124;43m\"\u001b[39;49m\u001b[43m,\u001b[49m\u001b[43m \u001b[49m\u001b[38;5;124;43m\"\u001b[39;49m\u001b[38;5;124;43myour-password\u001b[39;49m\u001b[38;5;124;43m\"\u001b[39;49m\u001b[43m)\u001b[49m\n\u001b[0;32m     18\u001b[0m server\u001b[38;5;241m.\u001b[39msend_message(msg)\n\u001b[0;32m     19\u001b[0m server\u001b[38;5;241m.\u001b[39mquit()\n",
      "File \u001b[1;32m~\\AppData\\Local\\Programs\\Python\\Python312\\Lib\\smtplib.py:750\u001b[0m, in \u001b[0;36mSMTP.login\u001b[1;34m(self, user, password, initial_response_ok)\u001b[0m\n\u001b[0;32m    747\u001b[0m         last_exception \u001b[38;5;241m=\u001b[39m e\n\u001b[0;32m    749\u001b[0m \u001b[38;5;66;03m# We could not login successfully.  Return result of last attempt.\u001b[39;00m\n\u001b[1;32m--> 750\u001b[0m \u001b[38;5;28;01mraise\u001b[39;00m last_exception\n",
      "File \u001b[1;32m~\\AppData\\Local\\Programs\\Python\\Python312\\Lib\\smtplib.py:739\u001b[0m, in \u001b[0;36mSMTP.login\u001b[1;34m(self, user, password, initial_response_ok)\u001b[0m\n\u001b[0;32m    737\u001b[0m method_name \u001b[38;5;241m=\u001b[39m \u001b[38;5;124m'\u001b[39m\u001b[38;5;124mauth_\u001b[39m\u001b[38;5;124m'\u001b[39m \u001b[38;5;241m+\u001b[39m authmethod\u001b[38;5;241m.\u001b[39mlower()\u001b[38;5;241m.\u001b[39mreplace(\u001b[38;5;124m'\u001b[39m\u001b[38;5;124m-\u001b[39m\u001b[38;5;124m'\u001b[39m, \u001b[38;5;124m'\u001b[39m\u001b[38;5;124m_\u001b[39m\u001b[38;5;124m'\u001b[39m)\n\u001b[0;32m    738\u001b[0m \u001b[38;5;28;01mtry\u001b[39;00m:\n\u001b[1;32m--> 739\u001b[0m     (code, resp) \u001b[38;5;241m=\u001b[39m \u001b[38;5;28;43mself\u001b[39;49m\u001b[38;5;241;43m.\u001b[39;49m\u001b[43mauth\u001b[49m\u001b[43m(\u001b[49m\n\u001b[0;32m    740\u001b[0m \u001b[43m        \u001b[49m\u001b[43mauthmethod\u001b[49m\u001b[43m,\u001b[49m\u001b[43m \u001b[49m\u001b[38;5;28;43mgetattr\u001b[39;49m\u001b[43m(\u001b[49m\u001b[38;5;28;43mself\u001b[39;49m\u001b[43m,\u001b[49m\u001b[43m \u001b[49m\u001b[43mmethod_name\u001b[49m\u001b[43m)\u001b[49m\u001b[43m,\u001b[49m\n\u001b[0;32m    741\u001b[0m \u001b[43m        \u001b[49m\u001b[43minitial_response_ok\u001b[49m\u001b[38;5;241;43m=\u001b[39;49m\u001b[43minitial_response_ok\u001b[49m\u001b[43m)\u001b[49m\n\u001b[0;32m    742\u001b[0m     \u001b[38;5;66;03m# 235 == 'Authentication successful'\u001b[39;00m\n\u001b[0;32m    743\u001b[0m     \u001b[38;5;66;03m# 503 == 'Error: already authenticated'\u001b[39;00m\n\u001b[0;32m    744\u001b[0m     \u001b[38;5;28;01mif\u001b[39;00m code \u001b[38;5;129;01min\u001b[39;00m (\u001b[38;5;241m235\u001b[39m, \u001b[38;5;241m503\u001b[39m):\n",
      "File \u001b[1;32m~\\AppData\\Local\\Programs\\Python\\Python312\\Lib\\smtplib.py:662\u001b[0m, in \u001b[0;36mSMTP.auth\u001b[1;34m(self, mechanism, authobject, initial_response_ok)\u001b[0m\n\u001b[0;32m    660\u001b[0m \u001b[38;5;28;01mif\u001b[39;00m code \u001b[38;5;129;01min\u001b[39;00m (\u001b[38;5;241m235\u001b[39m, \u001b[38;5;241m503\u001b[39m):\n\u001b[0;32m    661\u001b[0m     \u001b[38;5;28;01mreturn\u001b[39;00m (code, resp)\n\u001b[1;32m--> 662\u001b[0m \u001b[38;5;28;01mraise\u001b[39;00m SMTPAuthenticationError(code, resp)\n",
      "\u001b[1;31mSMTPAuthenticationError\u001b[0m: (535, b'5.7.8 Username and Password not accepted. For more information, go to\\n5.7.8  https://support.google.com/mail/?p=BadCredentials l6-20020a170906644600b00a554f6fbb25sm606363ejn.138 - gsmtp')"
     ]
    }
   ],
   "source": [
    "import functools\n",
    "import smtplib\n",
    "from email.message import EmailMessage\n",
    "import traceback\n",
    "\n",
    "def send_email(subject, body, to_email):\n",
    "    \"\"\" Отправить email. \"\"\"\n",
    "    msg = EmailMessage()\n",
    "    msg.set_content(body)\n",
    "    msg['Subject'] = subject\n",
    "    msg['From'] = \"your-email@example.com\"\n",
    "    msg['To'] = to_email\n",
    "\n",
    "    # Конфигурация SMTP сервера (здесь пример с Gmail)\n",
    "    server = smtplib.SMTP('smtp.gmail.com', 587)\n",
    "    server.starttls()\n",
    "    server.login(\"your-email@example.com\", \"your-password\")\n",
    "    server.send_message(msg)\n",
    "    server.quit()\n",
    "\n",
    "def error_notifier(func):\n",
    "    \"\"\"\n",
    "    Декоратор, который отправляет уведомление по электронной почте при возникновении ошибки.\n",
    "    \"\"\"\n",
    "    @functools.wraps(func)\n",
    "    def wrapper(*args, **kwargs):\n",
    "        try:\n",
    "            return func(*args, **kwargs)\n",
    "        except Exception as e:\n",
    "            error_message = f\"Ошибка в функции {func.__name__}: {traceback.format_exc()}\"\n",
    "            print(\"Произошла ошибка, отправка уведомления на электронную почту...\")\n",
    "            send_email(\"Ошибка в приложении\", error_message, \"receiver-email@example.com\")\n",
    "            raise  # Повторно поднимаем исключение для дальнейшей обработки\n",
    "    return wrapper\n",
    "\n",
    "# Пример использования декоратора\n",
    "@error_notifier\n",
    "def divide(a, b):\n",
    "    return a / b\n",
    "\n",
    "# Пример вызова функции\n",
    "try:\n",
    "    result = divide(10, 0)\n",
    "except ZeroDivisionError:\n",
    "    pass\n"
   ]
  },
  {
   "cell_type": "markdown",
   "id": "10e1a687-84a2-4296-8fca-e8a894ec1864",
   "metadata": {},
   "source": [
    "    Функция send_email: Эта функция отправляет сообщение по электронной почте. Для работы вам потребуется настроить параметры SMTP сервера и учетные данные.\n",
    "\n",
    "    Декоратор error_notifier: Он пытается выполнить функцию, и если возникает исключение, отправляет полное сообщение об ошибке на указанный электронный адрес. Используется traceback.format_exc() для получения полного стека ошибки, что может быть полезно для диагностики.\n",
    "\n",
    "    Управление ошибками: Пример показывает, как функция с декоратором вызывается в блоке try...except, чтобы обработать возможное исключение после его логирования и уведомления."
   ]
  },
  {
   "cell_type": "markdown",
   "id": "44cf3228-8fbc-4449-b856-d7e42ae7f8c8",
   "metadata": {},
   "source": [
    "б) Создайте декоратор, который будет принимать словарь аргументов и передавать его в функцию с заданными значениями по умолчанию."
   ]
  },
  {
   "cell_type": "code",
   "execution_count": 9,
   "id": "a357fd3b-127e-434d-976e-a8be2bc0fb03",
   "metadata": {},
   "outputs": [
    {
     "name": "stdout",
     "output_type": "stream",
     "text": [
      "x=1, y=2, z=3\n",
      "x=10, y=2, z=3\n",
      "x=1, y=20, z=30\n"
     ]
    }
   ],
   "source": [
    "import functools\n",
    "\n",
    "def inject_defaults(defaults):\n",
    "    \"\"\"\n",
    "    Декоратор, принимающий словарь с значениями по умолчанию,\n",
    "    которые будут переданы в функцию.\n",
    "    \"\"\"\n",
    "    def decorator(func):\n",
    "        @functools.wraps(func)\n",
    "        def wrapper(*args, **kwargs):\n",
    "            # Обновляем значения по умолчанию словарем полученных значений\n",
    "            updated_defaults = {**defaults, **kwargs}\n",
    "            return func(*args, **updated_defaults)\n",
    "        return wrapper\n",
    "    return decorator\n",
    "\n",
    "# Пример использования декоратора\n",
    "@inject_defaults({'x': 1, 'y': 2, 'z': 3})\n",
    "def my_function(x, y, z):\n",
    "    print(f\"x={x}, y={y}, z={z}\")\n",
    "\n",
    "my_function()         \n",
    "my_function(x=10)   \n",
    "my_function(z=30, y=20)  \n"
   ]
  },
  {
   "cell_type": "code",
   "execution_count": 10,
   "id": "6e83bc0e-1269-46a1-abae-3940d2e180ce",
   "metadata": {},
   "outputs": [
    {
     "name": "stdout",
     "output_type": "stream",
     "text": [
      "Аргументы: {'x': 1, 'y': 2, 'z': 3}\n",
      "Аргументы: {'x': 10, 'y': 2, 'z': 3}\n",
      "Аргументы: {'x': 1, 'y': 20, 'z': 30}\n"
     ]
    }
   ],
   "source": [
    "import functools\n",
    "\n",
    "def with_defaults(**default_kwargs):\n",
    "    \"\"\"\n",
    "    Декоратор, который передает аргументы в функцию,\n",
    "    позволяя переопределять значения по умолчанию при вызове.\n",
    "    \"\"\"\n",
    "    def decorator(func):\n",
    "        @functools.wraps(func)\n",
    "        def wrapper(*args, **kwargs):\n",
    "            # Копируем значения по умолчанию и обновляем их значениями из kwargs\n",
    "            combined_kwargs = {**default_kwargs, **kwargs}\n",
    "            return func(*args, **combined_kwargs)\n",
    "        return wrapper\n",
    "    return decorator\n",
    "\n",
    "# Пример использования декоратора\n",
    "@with_defaults(x=1, y=2, z=3)\n",
    "def my_function(**kwargs):\n",
    "    print(f\"Аргументы: {kwargs}\")\n",
    "\n",
    "my_function()          # Выведет: Аргументы: {'x': 1, 'y': 2, 'z': 3}\n",
    "my_function(x=10)      # Выведет: Аргументы: {'x': 10, 'y': 2, 'z': 3}\n",
    "my_function(z=30, y=20)  # Выведет: Аргументы: {'x': 1, 'y': 20, 'z': 30}\n"
   ]
  },
  {
   "cell_type": "markdown",
   "id": "675e0b32-c62f-49b3-9816-06ed96a5a7de",
   "metadata": {},
   "source": [
    "    Декоратор with_defaults: Принимает произвольные ключевые аргументы (аргументы по умолчанию), которые будут переданы в декорируемую функцию.\n",
    "\n",
    "    Внутренний декоратор decorator: Оборачивает функцию, обеспечивая возможность изменения и расширения аргументов по умолчанию при вызове функции.\n",
    "\n",
    "    Функция wrapper: Комбинирует значения по умолчанию, заданные при создании декоратора, с аргументами, переданными при вызове функции. Аргументы, переданные при вызове, приоритетнее значений по умолчанию."
   ]
  }
 ],
 "metadata": {
  "kernelspec": {
   "display_name": "Python 3 (ipykernel)",
   "language": "python",
   "name": "python3"
  },
  "language_info": {
   "codemirror_mode": {
    "name": "ipython",
    "version": 3
   },
   "file_extension": ".py",
   "mimetype": "text/x-python",
   "name": "python",
   "nbconvert_exporter": "python",
   "pygments_lexer": "ipython3",
   "version": "3.12.2"
  }
 },
 "nbformat": 4,
 "nbformat_minor": 5
}
