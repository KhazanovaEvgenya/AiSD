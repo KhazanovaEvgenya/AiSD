{
 "cells": [
  {
   "cell_type": "markdown",
   "id": "1a7c80eb-4ffa-46cf-b002-be2cd6aa855c",
   "metadata": {},
   "source": [
    "Используя модуль array и библиотеку numpy, решить следующие задачи:\n",
    "а) Дан массив A размера N. Сформировать новый массив B того же размера по следующему правилу: элемент BK равен сумме элементов массива A с номерами от 1 до K."
   ]
  },
  {
   "cell_type": "code",
   "execution_count": 1,
   "id": "3a05f0c3-48ba-4afa-a3f9-dea0b86b6d6d",
   "metadata": {},
   "outputs": [
    {
     "name": "stdout",
     "output_type": "stream",
     "text": [
      "Массив B: [1, 3, 6, 10, 15]\n"
     ]
    }
   ],
   "source": [
    "import array\n",
    "\n",
    "# Создаем массив A\n",
    "A = array.array('i', [1, 2, 3, 4, 5])  # 'i' означает тип данных integer\n",
    "\n",
    "# Инициализируем массив B\n",
    "B = array.array('i', [0]*len(A))\n",
    "\n",
    "# Заполняем массив B\n",
    "current_sum = 0\n",
    "for i in range(len(A)):\n",
    "    current_sum += A[i]\n",
    "    B[i] = current_sum\n",
    "\n",
    "print(\"Массив B:\", list(B))\n"
   ]
  },
  {
   "cell_type": "code",
   "execution_count": 2,
   "id": "bc38d056-564a-4b2f-9f91-4afd483d7ccf",
   "metadata": {},
   "outputs": [
    {
     "name": "stdout",
     "output_type": "stream",
     "text": [
      "Массив B: [ 1  3  6 10 15]\n"
     ]
    }
   ],
   "source": [
    "import numpy as np\n",
    "\n",
    "# Создаем массив A\n",
    "A = np.array([1, 2, 3, 4, 5])\n",
    "\n",
    "# Используем cumsum для получения массива B\n",
    "B = np.cumsum(A)\n",
    "\n",
    "print(\"Массив B:\", B)\n"
   ]
  },
  {
   "cell_type": "markdown",
   "id": "0012719a-93c3-48da-a795-1a521ea279e8",
   "metadata": {},
   "source": [
    "б) Дана матрица размера M×N. Элемент матрицы называется ее локальным минимумом, если он меньше всех окружающих его элементов. Заменить все локальные минимумы данной матрицы на нули."
   ]
  },
  {
   "cell_type": "code",
   "execution_count": 3,
   "id": "46a107fa-74dc-4002-9010-242f5af2e29f",
   "metadata": {},
   "outputs": [
    {
     "name": "stdout",
     "output_type": "stream",
     "text": [
      "Исходная матрица:\n",
      " [[9 2 3 4]\n",
      " [5 6 7 8]\n",
      " [1 2 3 1]]\n",
      "Модифицированная матрица:\n",
      " [[9 0 3 4]\n",
      " [5 6 7 8]\n",
      " [0 2 3 0]]\n"
     ]
    }
   ],
   "source": [
    "import numpy as np\n",
    "\n",
    "# Функция для проверки и замены локальных минимумов\n",
    "def replace_local_minima(matrix):\n",
    "    M, N = matrix.shape\n",
    "    # Копируем матрицу для безопасной модификации\n",
    "    new_matrix = np.copy(matrix)\n",
    "    \n",
    "    # Перебираем каждый элемент матрицы\n",
    "    for i in range(M):\n",
    "        for j in range(N):\n",
    "            # Проверяем всех соседей элемента matrix[i, j]\n",
    "            current = matrix[i, j]\n",
    "            is_minima = True\n",
    "            \n",
    "            # Проверка соседей по вертикали и горизонтали\n",
    "            for di in [-1, 0, 1]:\n",
    "                for dj in [-1, 0, 1]:\n",
    "                    if di == 0 and dj == 0:\n",
    "                        continue\n",
    "                    ni, nj = i + di, j + dj\n",
    "                    if 0 <= ni < M and 0 <= nj < N:\n",
    "                        if matrix[ni, nj] <= current:\n",
    "                            is_minima = False\n",
    "            \n",
    "            # Если элемент является локальным минимумом, заменяем его на ноль\n",
    "            if is_minima:\n",
    "                new_matrix[i, j] = 0\n",
    "    \n",
    "    return new_matrix\n",
    "\n",
    "# Пример матрицы\n",
    "matrix = np.array([\n",
    "    [9, 2, 3, 4],\n",
    "    [5, 6, 7, 8],\n",
    "    [1, 2, 3, 1]\n",
    "])\n",
    "\n",
    "# Замена локальных минимумов и вывод результата\n",
    "modified_matrix = replace_local_minima(matrix)\n",
    "print(\"Исходная матрица:\\n\", matrix)\n",
    "print(\"Модифицированная матрица:\\n\", modified_matrix)\n"
   ]
  },
  {
   "cell_type": "code",
   "execution_count": 5,
   "id": "b3be3d72-10e5-4d25-8764-2a4b3fbc0504",
   "metadata": {},
   "outputs": [
    {
     "name": "stdout",
     "output_type": "stream",
     "text": [
      "Исходная матрица:\n",
      " [[9 2 3 4]\n",
      " [5 6 7 8]\n",
      " [1 2 3 1]]\n",
      "Модифицированная матрица:\n",
      " [[2 0 2 3]\n",
      " [1 1 1 1]\n",
      " [0 1 1 0]]\n"
     ]
    }
   ],
   "source": [
    "import numpy as np\n",
    "\n",
    "def replace_local_minima(matrix):\n",
    "    M, N = matrix.shape\n",
    "    # Создаём новую матрицу, которая исходно равна данной матрице\n",
    "    new_matrix = np.copy(matrix)\n",
    "    \n",
    "    # Расширяем матрицу, добавляя максимальное значение +1 по краям для упрощения сравнения\n",
    "    max_val = np.max(matrix) + 1\n",
    "    padded_matrix = np.pad(matrix, pad_width=1, mode='constant', constant_values=max_val)\n",
    "    \n",
    "    # Перебираем все возможные направления смещения для поиска соседей\n",
    "    for di in [-1, 0, 1]:\n",
    "        for dj in [-1, 0, 1]:\n",
    "            if di == 0 and dj == 0:\n",
    "                continue\n",
    "            # Сравниваем элементы с их соседями\n",
    "            new_matrix = np.minimum(new_matrix, padded_matrix[1+di:M+1+di, 1+dj:N+1+dj])\n",
    "    \n",
    "    # Заменяем локальные минимумы (те, что равны исходным элементам) на нули\n",
    "    new_matrix[(new_matrix == matrix) & (new_matrix != max_val)] = 0\n",
    "    \n",
    "    return new_matrix\n",
    "\n",
    "# Пример матрицы\n",
    "matrix = np.array([\n",
    "    [9, 2, 3, 4],\n",
    "    [5, 6, 7, 8],\n",
    "    [1, 2, 3, 1]\n",
    "])\n",
    "\n",
    "# Замена локальных минимумов и вывод результата\n",
    "modified_matrix = replace_local_minima(matrix)\n",
    "print(\"Исходная матрица:\\n\", matrix)\n",
    "print(\"Модифицированная матрица:\\n\", modified_matrix)\n"
   ]
  },
  {
   "cell_type": "markdown",
   "id": "870cdc05-9dd7-43d9-b426-4a43c948e0c9",
   "metadata": {},
   "source": [
    "Дан стек. Необходимо проверить, является ли его содержимое палиндромом (то есть читается одинаково как слева направо, так и справа налево)."
   ]
  },
  {
   "cell_type": "code",
   "execution_count": 9,
   "id": "72c5b9d6-2c95-4fbd-a310-8fc1ee147377",
   "metadata": {},
   "outputs": [
    {
     "name": "stdout",
     "output_type": "stream",
     "text": [
      "Стек является палиндромом: True\n"
     ]
    }
   ],
   "source": [
    "class Stack:\n",
    "    def __init__(self):\n",
    "        self.items = []\n",
    "    \n",
    "    def push(self, item):\n",
    "        self.items.append(item)\n",
    "    \n",
    "    def pop(self):\n",
    "        if not self.is_empty():\n",
    "            return self.items.pop()\n",
    "        return None\n",
    "\n",
    "    \n",
    "    def is_empty(self):\n",
    "        return len(self.items) == 0\n",
    "\n",
    "def is_palindrome(stack):\n",
    "    original_content = []\n",
    "    \n",
    "    # Извлекаем элементы из стека\n",
    "    while not stack.is_empty():\n",
    "        original_content.append(stack.pop())\n",
    "    \n",
    "    # Проверяем, является ли содержимое палиндромом\n",
    "    return original_content == original_content[::-1]\n",
    "\n",
    "# Пример использования\n",
    "stack = Stack()\n",
    "for char in \"radar\":\n",
    "    stack.push(char)\n",
    "\n",
    "print(\"Стек является палиндромом:\", is_palindrome(stack))\n"
   ]
  },
  {
   "cell_type": "markdown",
   "id": "9050065e-105b-4e7c-bb04-3e289e7b2910",
   "metadata": {},
   "source": [
    "Создать класс двусторонней очереди, который будет поддерживать операции добавления элемента в начало и конец очереди, удаления элемента из начала и конца очереди, а также удаления минимального и максимального элементов из очереди."
   ]
  },
  {
   "cell_type": "code",
   "execution_count": 10,
   "id": "d042d94b-a4bd-4ec7-840e-1397c6e86bab",
   "metadata": {},
   "outputs": [
    {
     "name": "stdout",
     "output_type": "stream",
     "text": [
      "Элементы очереди: [1, 3, 5, 10]\n",
      "Удалён из начала: 1\n",
      "Удалён из конца: 10\n",
      "Очередь после удаления минимального элемента: [5]\n",
      "Очередь после удаления максимального элемента: []\n"
     ]
    }
   ],
   "source": [
    "class Deque:\n",
    "    def __init__(self):\n",
    "        self.items = []\n",
    "    \n",
    "    def add_front(self, item):\n",
    "        \"\"\"Добавляет элемент в начало очереди.\"\"\"\n",
    "        self.items.insert(0, item)\n",
    "    \n",
    "    def add_rear(self, item):\n",
    "        \"\"\"Добавляет элемент в конец очереди.\"\"\"\n",
    "        self.items.append(item)\n",
    "    \n",
    "    def remove_front(self):\n",
    "        \"\"\"Удаляет и возвращает элемент из начала очереди.\"\"\"\n",
    "        if self.items:\n",
    "            return self.items.pop(0)\n",
    "        return None\n",
    "    \n",
    "    def remove_rear(self):\n",
    "        \"\"\"Удаляет и возвращает элемент из конца очереди.\"\"\"\n",
    "        if self.items:\n",
    "            return self.items.pop()\n",
    "        return None\n",
    "    \n",
    "    def delete_min(self):\n",
    "        \"\"\"Удаляет минимальный элемент из очереди.\"\"\"\n",
    "        if self.items:\n",
    "            min_item = min(self.items)\n",
    "            self.items.remove(min_item)\n",
    "    \n",
    "    def delete_max(self):\n",
    "        \"\"\"Удаляет максимальный элемент из очереди.\"\"\"\n",
    "        if self.items:\n",
    "            max_item = max(self.items)\n",
    "            self.items.remove(max_item)\n",
    "    \n",
    "    def is_empty(self):\n",
    "        \"\"\"Проверяет, пуста ли очередь.\"\"\"\n",
    "        return len(self.items) == 0\n",
    "    \n",
    "    def size(self):\n",
    "        \"\"\"Возвращает размер очереди.\"\"\"\n",
    "        return len(self.items)\n",
    "\n",
    "# Пример использования\n",
    "deque = Deque()\n",
    "deque.add_front(3)\n",
    "deque.add_rear(5)\n",
    "deque.add_front(1)\n",
    "deque.add_rear(10)\n",
    "\n",
    "print(\"Элементы очереди:\", deque.items)\n",
    "print(\"Удалён из начала:\", deque.remove_front())\n",
    "print(\"Удалён из конца:\", deque.remove_rear())\n",
    "deque.delete_min()\n",
    "print(\"Очередь после удаления минимального элемента:\", deque.items)\n",
    "deque.delete_max()\n",
    "print(\"Очередь после удаления максимального элемента:\", deque.items)\n"
   ]
  },
  {
   "cell_type": "code",
   "execution_count": null,
   "id": "f8677ba4-9fd2-4ea4-a2e7-20c7953c49a3",
   "metadata": {},
   "outputs": [],
   "source": []
  }
 ],
 "metadata": {
  "kernelspec": {
   "display_name": "Python 3 (ipykernel)",
   "language": "python",
   "name": "python3"
  },
  "language_info": {
   "codemirror_mode": {
    "name": "ipython",
    "version": 3
   },
   "file_extension": ".py",
   "mimetype": "text/x-python",
   "name": "python",
   "nbconvert_exporter": "python",
   "pygments_lexer": "ipython3",
   "version": "3.12.2"
  }
 },
 "nbformat": 4,
 "nbformat_minor": 5
}
